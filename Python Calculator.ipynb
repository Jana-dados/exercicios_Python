{
 "cells": [
  {
   "cell_type": "code",
   "execution_count": null,
   "metadata": {},
   "outputs": [],
   "source": [
    "# Calculadora em Python"
   ]
  },
  {
   "cell_type": "code",
   "execution_count": null,
   "metadata": {},
   "outputs": [],
   "source": [
    "print ('*************** Python Calculator ***************')\n",
    "print ()\n",
    "print ('Selecione o número da opção desejada: ')\n",
    "print ()\n",
    "print ('1 - Soma')\n",
    "print ('2 - Subtração')\n",
    "print ('3 - Multiplicação')\n",
    "print ('4 - Divisão')\n",
    "print ()\n",
    "oper = input(print ('Digite sua opção (1/2/3/4):'))\n",
    "print()\n",
    "num1 = int(input(print (' Digite o primeiro número: ')))\n",
    "print ()\n",
    "num2 = int(input(print('Digite o segundo número: ')))\n",
    "print ()"
   ]
  },
  {
   "cell_type": "code",
   "execution_count": null,
   "metadata": {},
   "outputs": [],
   "source": [
    "if oper == '1':\n",
    "    soma = num1 + num2\n",
    "    print (num1, \"+\" ,num2, \"=\" ,soma)\n",
    "elif oper == '2':\n",
    "    soma = num1 - num2\n",
    "    print (num1, \"-\" ,num2, \"=\",soma)\n",
    "elif oper == '3' :\n",
    "    soma = num1*num2\n",
    "    print (num1, \"*\" ,num2, \"=\" ,soma)\n",
    "elif oper == '4':\n",
    "    soma = num1/num2\n",
    "    print (num1, \"/\" ,num2, \"=\" ,soma)\n",
    "else:\n",
    "    print ('opção invalida!')"
   ]
  },
  {
   "cell_type": "code",
   "execution_count": null,
   "metadata": {},
   "outputs": [],
   "source": []
  }
 ],
 "metadata": {
  "kernelspec": {
   "display_name": "Python 3",
   "language": "python",
   "name": "python3"
  },
  "language_info": {
   "codemirror_mode": {
    "name": "ipython",
    "version": 3
   },
   "file_extension": ".py",
   "mimetype": "text/x-python",
   "name": "python",
   "nbconvert_exporter": "python",
   "pygments_lexer": "ipython3",
   "version": "3.8.5"
  }
 },
 "nbformat": 4,
 "nbformat_minor": 4
}
